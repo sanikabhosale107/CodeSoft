{
  "cells": [
    {
      "cell_type": "code",
      "execution_count": null,
      "id": "0d90680d-5091-402e-9693-14893acc73bb",
      "metadata": {
        "id": "0d90680d-5091-402e-9693-14893acc73bb"
      },
      "outputs": [],
      "source": [
        "import tensorflow as tf\n",
        "from tensorflow import keras\n",
        "from tensorflow.keras.applications import VGG16\n",
        "from tensorflow.keras.models import Model\n",
        "from tensorflow.keras.layers import Dense, Flatten\n",
        "from tensorflow.keras.optimizers import Adam\n",
        "from tensorflow.keras.preprocessing.image import ImageDataGenerator\n",
        "import numpy as np"
      ]
    },
    {
      "cell_type": "code",
      "execution_count": null,
      "id": "59f101ef-831a-41b9-9698-fcc2809fd729",
      "metadata": {
        "id": "59f101ef-831a-41b9-9698-fcc2809fd729"
      },
      "outputs": [],
      "source": [
        "train_dir = \"C:\\\\Users\\\\hp\\\\Downloads\\\\cifar-10-img\\\\cifar-10-img\\\\train\"\n",
        "test_dir = \"C:\\\\Users\\\\hp\\\\Downloads\\\\cifar-10-img\\\\cifar-10-img\\\\test\""
      ]
    },
    {
      "cell_type": "code",
      "execution_count": null,
      "id": "431cea4a-689d-44cf-ae8f-286539c65ac8",
      "metadata": {
        "id": "431cea4a-689d-44cf-ae8f-286539c65ac8"
      },
      "outputs": [],
      "source": [
        "train_datagen = ImageDataGenerator(\n",
        "    rescale=1.0 / 255,\n",
        ")\n",
        "\n",
        "test_datagen = ImageDataGenerator(\n",
        "    rescale=1.0 / 255,\n",
        ")"
      ]
    },
    {
      "cell_type": "code",
      "execution_count": null,
      "id": "0407c566-1502-4187-b7d0-78980915d035",
      "metadata": {
        "id": "0407c566-1502-4187-b7d0-78980915d035",
        "outputId": "a9489c17-dcf7-4cd2-9be3-88094ca041a0"
      },
      "outputs": [
        {
          "name": "stdout",
          "output_type": "stream",
          "text": [
            "Found 40079 images belonging to 10 classes.\n"
          ]
        }
      ],
      "source": [
        "train_batch_size = 5000\n",
        "train_generator = train_datagen.flow_from_directory(\n",
        "    train_dir,\n",
        "    target_size=(32, 32),\n",
        "    batch_size=train_batch_size,\n",
        "    class_mode='categorical'\n",
        ")"
      ]
    },
    {
      "cell_type": "code",
      "execution_count": null,
      "id": "6cbfa9f1-1e73-4987-8b24-3d8d2e42a687",
      "metadata": {
        "id": "6cbfa9f1-1e73-4987-8b24-3d8d2e42a687",
        "outputId": "6a63f040-fc19-4967-8a0d-d7f47a249ca1"
      },
      "outputs": [
        {
          "name": "stdout",
          "output_type": "stream",
          "text": [
            "Found 9921 images belonging to 10 classes.\n"
          ]
        }
      ],
      "source": [
        "test_batch_size = 1000\n",
        "test_generator = test_datagen.flow_from_directory(\n",
        "    test_dir,\n",
        "    target_size=(32, 32),\n",
        "    batch_size=test_batch_size,\n",
        "    class_mode='categorical'\n",
        ")"
      ]
    },
    {
      "cell_type": "code",
      "execution_count": null,
      "id": "85a2892e-7027-4980-96a0-5c89065a6380",
      "metadata": {
        "id": "85a2892e-7027-4980-96a0-5c89065a6380",
        "outputId": "c9aaea04-daba-4380-8463-ac2ca76e62a4"
      },
      "outputs": [
        {
          "name": "stdout",
          "output_type": "stream",
          "text": [
            "5000\n",
            "1000\n"
          ]
        }
      ],
      "source": [
        "x_train, y_train =  train_generator[0]\n",
        "x_test, y_test = test_generator[0]\n",
        "\n",
        "print(len(x_train))\n",
        "print(len(x_test))"
      ]
    },
    {
      "cell_type": "code",
      "execution_count": null,
      "id": "31debe49-9cca-4e4e-bfb3-3dacc423f979",
      "metadata": {
        "id": "31debe49-9cca-4e4e-bfb3-3dacc423f979"
      },
      "outputs": [],
      "source": [
        "weights_path = \"C:\\\\Users\\\\hp\\\\Downloads\\\\vgg16_weights_tf_dim_ordering_tf_kernels_notop.h5\"\n",
        "base_model = VGG16(weights=weights_path, include_top=False, input_shape=(32, 32, 3))"
      ]
    },
    {
      "cell_type": "code",
      "execution_count": null,
      "id": "832d5a1b-8d45-4a64-802b-5ac6c3b4c8f9",
      "metadata": {
        "id": "832d5a1b-8d45-4a64-802b-5ac6c3b4c8f9"
      },
      "outputs": [],
      "source": [
        "for layer in base_model.layers:\n",
        "   layer.trainable = False"
      ]
    },
    {
      "cell_type": "code",
      "execution_count": null,
      "id": "89634dee-405b-457d-9733-0885b34773b2",
      "metadata": {
        "id": "89634dee-405b-457d-9733-0885b34773b2"
      },
      "outputs": [],
      "source": [
        "x = Flatten()(base_model.output)\n",
        "x = Dense(256, activation='relu')(x)\n",
        "x = tf.keras.layers.Dropout(0.3)(x)\n",
        "x = Dense(256, activation='relu')(x)\n",
        "x = tf.keras.layers.Dropout(0.3)(x)\n",
        "predictions = Dense(10, activation='softmax')(x)\n",
        "\n",
        "model = Model(inputs=base_model.input, outputs=predictions)\n",
        "\n",
        "model.compile(optimizer=\"adam\", loss='categorical_crossentropy', metrics=['accuracy'])"
      ]
    },
    {
      "cell_type": "code",
      "execution_count": null,
      "id": "ca201032-180d-42f7-be1e-5eed79e6bacb",
      "metadata": {
        "id": "ca201032-180d-42f7-be1e-5eed79e6bacb",
        "outputId": "f2035c6f-de2b-4744-c676-9757654d5b23"
      },
      "outputs": [
        {
          "name": "stdout",
          "output_type": "stream",
          "text": [
            "Epoch 1/10\n",
            "\u001b[1m79/79\u001b[0m \u001b[32m━━━━━━━━━━━━━━━━━━━━\u001b[0m\u001b[37m\u001b[0m \u001b[1m66s\u001b[0m 749ms/step - accuracy: 0.2338 - loss: 2.1125 - val_accuracy: 0.4340 - val_loss: 1.5740\n",
            "Epoch 2/10\n",
            "\u001b[1m79/79\u001b[0m \u001b[32m━━━━━━━━━━━━━━━━━━━━\u001b[0m\u001b[37m\u001b[0m \u001b[1m60s\u001b[0m 755ms/step - accuracy: 0.4219 - loss: 1.6212 - val_accuracy: 0.4970 - val_loss: 1.4007\n",
            "Epoch 3/10\n",
            "\u001b[1m79/79\u001b[0m \u001b[32m━━━━━━━━━━━━━━━━━━━━\u001b[0m\u001b[37m\u001b[0m \u001b[1m58s\u001b[0m 736ms/step - accuracy: 0.4881 - loss: 1.4350 - val_accuracy: 0.5140 - val_loss: 1.3675\n",
            "Epoch 4/10\n",
            "\u001b[1m79/79\u001b[0m \u001b[32m━━━━━━━━━━━━━━━━━━━━\u001b[0m\u001b[37m\u001b[0m \u001b[1m58s\u001b[0m 734ms/step - accuracy: 0.5105 - loss: 1.3606 - val_accuracy: 0.5210 - val_loss: 1.3610\n",
            "Epoch 5/10\n",
            "\u001b[1m79/79\u001b[0m \u001b[32m━━━━━━━━━━━━━━━━━━━━\u001b[0m\u001b[37m\u001b[0m \u001b[1m83s\u001b[0m 745ms/step - accuracy: 0.5330 - loss: 1.3025 - val_accuracy: 0.5500 - val_loss: 1.3034\n",
            "Epoch 6/10\n",
            "\u001b[1m79/79\u001b[0m \u001b[32m━━━━━━━━━━━━━━━━━━━━\u001b[0m\u001b[37m\u001b[0m \u001b[1m64s\u001b[0m 804ms/step - accuracy: 0.5701 - loss: 1.2321 - val_accuracy: 0.5550 - val_loss: 1.2853\n",
            "Epoch 7/10\n",
            "\u001b[1m79/79\u001b[0m \u001b[32m━━━━━━━━━━━━━━━━━━━━\u001b[0m\u001b[37m\u001b[0m \u001b[1m63s\u001b[0m 793ms/step - accuracy: 0.5987 - loss: 1.1439 - val_accuracy: 0.5440 - val_loss: 1.3056\n",
            "Epoch 8/10\n",
            "\u001b[1m79/79\u001b[0m \u001b[32m━━━━━━━━━━━━━━━━━━━━\u001b[0m\u001b[37m\u001b[0m \u001b[1m58s\u001b[0m 734ms/step - accuracy: 0.5978 - loss: 1.1131 - val_accuracy: 0.5400 - val_loss: 1.2901\n",
            "Epoch 9/10\n",
            "\u001b[1m79/79\u001b[0m \u001b[32m━━━━━━━━━━━━━━━━━━━━\u001b[0m\u001b[37m\u001b[0m \u001b[1m58s\u001b[0m 731ms/step - accuracy: 0.6052 - loss: 1.0983 - val_accuracy: 0.5330 - val_loss: 1.2896\n",
            "Epoch 10/10\n",
            "\u001b[1m79/79\u001b[0m \u001b[32m━━━━━━━━━━━━━━━━━━━━\u001b[0m\u001b[37m\u001b[0m \u001b[1m58s\u001b[0m 739ms/step - accuracy: 0.6393 - loss: 1.0361 - val_accuracy: 0.5440 - val_loss: 1.2701\n"
          ]
        },
        {
          "data": {
            "text/plain": [
              "<keras.src.callbacks.history.History at 0x2226d18f510>"
            ]
          },
          "execution_count": 12,
          "metadata": {},
          "output_type": "execute_result"
        }
      ],
      "source": [
        "model.fit(x_train, y_train, batch_size=64, epochs=10, validation_data=(x_test, y_test))"
      ]
    },
    {
      "cell_type": "code",
      "execution_count": null,
      "id": "0b79acc9-5064-4b17-a4c9-2b845d55a242",
      "metadata": {
        "id": "0b79acc9-5064-4b17-a4c9-2b845d55a242",
        "outputId": "be5b9940-1d33-4b2d-b03c-d8be055e9a77"
      },
      "outputs": [
        {
          "name": "stdout",
          "output_type": "stream",
          "text": [
            "\u001b[1m32/32\u001b[0m \u001b[32m━━━━━━━━━━━━━━━━━━━━\u001b[0m\u001b[37m\u001b[0m \u001b[1m11s\u001b[0m 338ms/step\n"
          ]
        }
      ],
      "source": [
        "import matplotlib.pyplot as plt\n",
        "predicted_value = model.predict(x_test)"
      ]
    },
    {
      "cell_type": "code",
      "execution_count": null,
      "id": "178c1873-90ce-4511-b4ee-622009c2e85c",
      "metadata": {
        "id": "178c1873-90ce-4511-b4ee-622009c2e85c"
      },
      "outputs": [],
      "source": [
        "labels = list(test_generator.class_indices.keys())"
      ]
    },
    {
      "cell_type": "code",
      "execution_count": null,
      "id": "cb5d9f7e-8496-405e-801a-0cf414089157",
      "metadata": {
        "id": "cb5d9f7e-8496-405e-801a-0cf414089157",
        "outputId": "8f0e3d03-3a75-4a63-888a-c7f26dd52298"
      },
      "outputs": [
        {
          "name": "stdout",
          "output_type": "stream",
          "text": [
            "Preditcted:  truck\n",
            "Actual:  truck\n"
          ]
        },
        {
          "data": {
            "image/png": "[encoded data removed]",
            "text/plain": [
              "<Figure size 640x480 with 1 Axes>"
            ]
          },
          "metadata": {},
          "output_type": "display_data"
        }
      ],
      "source": [
        "n = 890\n",
        "plt.imshow(x_test[n])\n",
        "print(\"Preditcted: \",labels[np.argmax(predicted_value[n])])\n",
        "print(\"Actual: \", labels[np.argmax(y_test[n])])"
      ]
    },
    {
      "cell_type": "code",
      "execution_count": null,
      "id": "8632bb8b-cbd8-47c8-add7-3c1e808c66f1",
      "metadata": {
        "id": "8632bb8b-cbd8-47c8-add7-3c1e808c66f1",
        "outputId": "b2ab9b40-0ef8-42c7-e2b6-ded5531415d8"
      },
      "outputs": [
        {
          "name": "stdout",
          "output_type": "stream",
          "text": [
            "Preditcted:  dog\n",
            "Actual:  dog\n"
          ]
        },
        {
          "data": {
            "image/png": "[encoded data removed]",
            "text/plain": [
              "<Figure size 640x480 with 1 Axes>"
            ]
          },
          "metadata": {},
          "output_type": "display_data"
        }
      ],
      "source": [
        "n = 590\n",
        "plt.imshow(x_test[n])\n",
        "print(\"Preditcted: \",labels[np.argmax(predicted_value[n])])\n",
        "print(\"Actual: \", labels[np.argmax(y_test[n])])"
      ]
    },
    {
      "cell_type": "code",
      "execution_count": null,
      "id": "7a645617-332e-409d-ace8-fe34e1c1452b",
      "metadata": {
        "id": "7a645617-332e-409d-ace8-fe34e1c1452b",
        "outputId": "98fea344-e27e-4ab7-ca2f-beb58033e23e"
      },
      "outputs": [
        {
          "name": "stdout",
          "output_type": "stream",
          "text": [
            "Preditcted:  deer\n",
            "Actual:  deer\n"
          ]
        },
        {
          "data": {
            "image/png": "[encoded data removed]",
            "text/plain": [
              "<Figure size 640x480 with 1 Axes>"
            ]
          },
          "metadata": {},
          "output_type": "display_data"
        }
      ],
      "source": [
        "n = 600\n",
        "plt.imshow(x_test[n])\n",
        "print(\"Preditcted: \",labels[np.argmax(predicted_value[n])])\n",
        "print(\"Actual: \", labels[np.argmax(y_test[n])])"
      ]
    },
    {
      "cell_type": "code",
      "execution_count": null,
      "id": "4e5042d0-a8ef-4e2f-868c-9d798bcbe6ad",
      "metadata": {
        "id": "4e5042d0-a8ef-4e2f-868c-9d798bcbe6ad"
      },
      "outputs": [],
      "source": []
    }
  ],
  "metadata": {
    "kernelspec": {
      "display_name": "Python 3 (ipykernel)",
      "language": "python",
      "name": "python3"
    },
    "language_info": {
      "codemirror_mode": {
        "name": "ipython",
        "version": 3
      },
      "file_extension": ".py",
      "mimetype": "text/x-python",
      "name": "python",
      "nbconvert_exporter": "python",
      "pygments_lexer": "ipython3",
      "version": "3.11.7"
    },
    "colab": {
      "provenance": []
    }
  },
  "nbformat": 4,
  "nbformat_minor": 5
}